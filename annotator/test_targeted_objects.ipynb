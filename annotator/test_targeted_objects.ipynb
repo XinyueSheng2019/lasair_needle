{
 "cells": [
  {
   "cell_type": "markdown",
   "metadata": {},
   "source": [
    "### Predicted a list of ZTF objects."
   ]
  },
  {
   "cell_type": "code",
   "execution_count": 1,
   "metadata": {},
   "outputs": [
    {
     "name": "stdout",
     "output_type": "stream",
     "text": [
      "Metal device set to: Apple M1\n",
      "\n",
      "systemMemory: 16.00 GB\n",
      "maxCacheSize: 5.33 GB\n",
      "\n"
     ]
    },
    {
     "name": "stderr",
     "output_type": "stream",
     "text": [
      "%6|1718743951.282|FAIL|rdkafka#consumer-1| [thrd:kafka.lsst.ac.uk:9092/bootstrap]: kafka.lsst.ac.uk:9092/bootstrap: Disconnected while requesting ApiVersion: might be caused by incorrect security.protocol configuration (connecting to a SSL listener?) or broker version is < 0.10 (see api.version.request) (after 0ms in state APIVERSION_QUERY)\n",
      "%6|1718743951.506|FAIL|rdkafka#consumer-1| [thrd:kafka.lsst.ac.uk:9092/bootstrap]: kafka.lsst.ac.uk:9092/bootstrap: Disconnected while requesting ApiVersion: might be caused by incorrect security.protocol configuration (connecting to a SSL listener?) or broker version is < 0.10 (see api.version.request) (after 0ms in state APIVERSION_QUERY, 1 identical error(s) suppressed)\n"
     ]
    },
    {
     "name": "stdout",
     "output_type": "stream",
     "text": [
      "Annotated 0 of 0 objects\n"
     ]
    }
   ],
   "source": [
    "from generate_annotator import *\n",
    "import pandas as pd \n",
    "import lasair, os\n",
    "import settings\n",
    "import numpy as np \n"
   ]
  },
  {
   "cell_type": "code",
   "execution_count": 8,
   "metadata": {},
   "outputs": [],
   "source": [
    "\n",
    "def collect_data_from_lasair(objectId, objectInfo, band = 'r'):\n",
    "    if band == 'g':\n",
    "        fid = 1\n",
    "    elif band == 'r':\n",
    "        fid = 2\n",
    "\n",
    "    candidates = objectInfo['candidates']\n",
    "    \n",
    "    candidates = [x for x in candidates if 'image_urls' in x.keys() and x['fid'] == fid]\n",
    "    # print(candidates)\n",
    "    \n",
    "    disdate = objectInfo['objectData']['discMjd']\n",
    "    discFilter = objectInfo['objectData']['discFilter']\n",
    "\n",
    "    if len(candidates) >= 1:\n",
    "        mags = np.array([m['magpsf']for m in candidates])\n",
    "        idx = np.argmin(mags)\n",
    "\n",
    "        if discFilter == band:\n",
    "            discMag = objectInfo['objectData']['discMag']\n",
    "            discMag = float(discMag.strip(r'\\u')[0])\n",
    "        else:\n",
    "            discMag = candidates[-1]['magpsf']\n",
    "\n",
    "        flag = False\n",
    "        \n",
    "        while flag is False and idx <= len(candidates)-1 and idx >= 0:\n",
    "      \n",
    "            peak_urls = candidates[idx]['image_urls']\n",
    "            science_url = peak_urls['Science']\n",
    "            template_url = peak_urls['Template']\n",
    "            # difference_url = peak_urls['Difference']\n",
    "\n",
    "            obsjd_path = ztf_image_pipeline.create_path(NEEDLE_OBJ_PATH, objectId)\n",
    "            sci_fname = \"sci_ztf_peak.fits\"\n",
    "            sci_filename = obsjd_path + '/' + sci_fname\n",
    "            ref_fname = 'ref_ztf_peak.fits'\n",
    "            ref_filename = obsjd_path + '/' + ref_fname\n",
    "\n",
    "            # if not os.path.exists(sci_filename):\n",
    "            os.system(\"curl -o %s %s\" % (sci_filename, science_url))\n",
    "            os.system(\"curl -o %s %s\" % (ref_filename, template_url))\n",
    "            \n",
    "            if os.path.getsize(sci_filename) < 800 or os.path.getsize(ref_filename) < 800: \n",
    "                idx += 1\n",
    "            else:\n",
    "                flag = True\n",
    "                break\n",
    "                \n",
    "        if flag:\n",
    "\n",
    "            img_data = get_obj_image(sci_filename, ref_filename, None, BClassifier)\n",
    "            if img_data is not None:    \n",
    "                host_ra, host_dec = objectInfo['sherlock']['raDeg'], objectInfo['sherlock']['decDeg']\n",
    "                PS1catalog_host(_id = objectId, _ra = host_ra, _dec = host_dec, save_path = NEEDLE_OBJ_PATH + '/hosts')\n",
    "                host_meta = build_dataset.add_host_meta(objectId, host_path = NEEDLE_OBJ_PATH + '/hosts', only_complete = True)\n",
    "                sherlock_meta = [objectInfo['sherlock']['separationArcsec']]\n",
    "                if host_meta is None:\n",
    "                    print('object %s host meta not found, use NEEDLE-T\\n' % objectId)\n",
    "                    meta_data = get_obj_meta(candidates, idx, disdate, discMag, None)\n",
    "                    meta_data = scaling_meta(meta_data, NEEDLE_PATH_T)\n",
    "                    return img_data, meta_data, 'T'\n",
    "             \n",
    "                else:\n",
    "                    meta_data = get_obj_meta(candidates, idx, disdate, discMag, host_meta[1]) + host_meta + sherlock_meta\n",
    "                    meta_data = scaling_meta(meta_data, NEEDLE_PATH_TH)\n",
    "                    return img_data, meta_data, 'TH'\n",
    "            else:\n",
    "\n",
    "                return None, None, None\n",
    "        else:\n",
    "     \n",
    "            return None, None, None\n",
    "\n",
    "    else:\n",
    "       \n",
    "        return None, None, None\n",
    "    \n",
    "def predict_targeted_ZTF(objectId, L,  threshold = 0.75):\n",
    "\n",
    "    objectInfo = L.objects([objectId])[0]\n",
    "    classification = None\n",
    "    probs = None\n",
    "    # print(objectInfo)\n",
    "    if objectInfo is None:\n",
    "        print('objectInfo is None.')\n",
    "        return classification, probs\n",
    "    else:\n",
    "        img_data, meta_data, findhost = collect_data_from_lasair(objectId, objectInfo, band = 'r')\n",
    "\n",
    "        if img_data is None or meta_data is None:\n",
    "            print('image data is None or meta data is None.')\n",
    "            return classification, probs\n",
    "        else:\n",
    "            results = needle_prediction(img_data, meta_data, findhost)\n",
    "            probs = 'SN: %f, SLSN-I: %f, TDE: %f' % (results[0][0], results[0][1], results[0][2])\n",
    "            \n",
    "            if np.max(results[0]) >= threshold:\n",
    "                classification = LABEL_LIST[np.argmax(results[0])]\n",
    "            else:\n",
    "                classification = 'unclear'\n",
    "            return classification, probs\n",
    "    "
   ]
  },
  {
   "cell_type": "code",
   "execution_count": 9,
   "metadata": {},
   "outputs": [
    {
     "name": "stdout",
     "output_type": "stream",
     "text": [
      "1/1 [==============================] - 0s 13ms/step\n"
     ]
    },
    {
     "name": "stderr",
     "output_type": "stream",
     "text": [
      "  % Total    % Received % Xferd  Average Speed   Time    Time     Time  Current\n",
      "                                 Dload  Upload   Total   Spent    Left  Speed\n",
      "100 20160  100 20160    0     0   268k      0 --:--:-- --:--:-- --:--:--  289k\n",
      "  % Total    % Received % Xferd  Average Speed   Time    Time     Time  Current\n",
      "                                 Dload  Upload   Total   Spent    Left  Speed\n",
      "100 20160  100 20160    0     0   312k      0 --:--:-- --:--:-- --:--:--  328k\n"
     ]
    },
    {
     "name": "stdout",
     "output_type": "stream",
     "text": [
      "1/1 [==============================] - 0s 12ms/step\n",
      "https://catalogs.mast.stsci.edu/api/v0.1/panstarrs/dr2/stack.json?ra=0.0&dec=0.0&radius=0.00139&columns=[raStack,decStack,gPSFMag,gPSFMagErr,rPSFMag,rPSFMagErr,iPSFMag,iPSFMagErr,zPSFMag,zPSFMagErr,yPSFMag,yPSFMagErr, gApMag,gApMagErr,rApMag,rApMagErr,iApMag,iApMagErr,zApMag,zApMagErr,yApMag,yApMagErr,yKronMag]&nDetections.gte=6&pagesize=10000\n",
      "object ZTF24aakzjyd host meta not found, use NEEDLE-T\n",
      "\n",
      "1/1 [==============================] - 0s 114ms/step\n",
      "1/1 [==============================] - 0s 95ms/step\n",
      "1/1 [==============================] - 0s 93ms/step\n",
      "WARNING:tensorflow:5 out of the last 12 calls to <function Model.make_predict_function.<locals>.predict_function at 0x29231c670> triggered tf.function retracing. Tracing is expensive and the excessive number of tracings could be due to (1) creating @tf.function repeatedly in a loop, (2) passing tensors with different shapes, (3) passing Python objects instead of tensors. For (1), please define your @tf.function outside of the loop. For (2), @tf.function has reduce_retracing=True option that can avoid unnecessary retracing. For (3), please refer to https://www.tensorflow.org/guide/function#controlling_retracing and https://www.tensorflow.org/api_docs/python/tf/function for  more details.\n",
      "1/1 [==============================] - 0s 94ms/step\n",
      "WARNING:tensorflow:6 out of the last 13 calls to <function Model.make_predict_function.<locals>.predict_function at 0x292591940> triggered tf.function retracing. Tracing is expensive and the excessive number of tracings could be due to (1) creating @tf.function repeatedly in a loop, (2) passing tensors with different shapes, (3) passing Python objects instead of tensors. For (1), please define your @tf.function outside of the loop. For (2), @tf.function has reduce_retracing=True option that can avoid unnecessary retracing. For (3), please refer to https://www.tensorflow.org/guide/function#controlling_retracing and https://www.tensorflow.org/api_docs/python/tf/function for  more details.\n",
      "1/1 [==============================] - 0s 112ms/step\n",
      "1/1 [==============================] - 0s 95ms/step\n",
      "1/1 [==============================] - 0s 93ms/step\n",
      "1/1 [==============================] - 0s 96ms/step\n",
      "1/1 [==============================] - 0s 95ms/step\n",
      "1/1 [==============================] - 0s 136ms/step\n"
     ]
    },
    {
     "data": {
      "text/plain": [
       "('unclear', 'SN: 0.192751, SLSN-I: 0.279074, TDE: 0.528175')"
      ]
     },
     "execution_count": 9,
     "metadata": {},
     "output_type": "execute_result"
    },
    {
     "name": "stderr",
     "output_type": "stream",
     "text": [
      "%6|1718744329.666|FAIL|rdkafka#consumer-1| [thrd:kafka.lsst.ac.uk:9092/bootstrap]: kafka.lsst.ac.uk:9092/bootstrap: Disconnected while requesting ApiVersion: might be caused by incorrect security.protocol configuration (connecting to a SSL listener?) or broker version is < 0.10 (see api.version.request) (after 0ms in state APIVERSION_QUERY, 4 identical error(s) suppressed)\n",
      "%6|1718744359.725|FAIL|rdkafka#consumer-1| [thrd:kafka.lsst.ac.uk:9092/bootstrap]: kafka.lsst.ac.uk:9092/bootstrap: Disconnected while requesting ApiVersion: might be caused by incorrect security.protocol configuration (connecting to a SSL listener?) or broker version is < 0.10 (see api.version.request) (after 0ms in state APIVERSION_QUERY, 3 identical error(s) suppressed)\n",
      "%6|1718744389.788|FAIL|rdkafka#consumer-1| [thrd:kafka.lsst.ac.uk:9092/bootstrap]: kafka.lsst.ac.uk:9092/bootstrap: Disconnected while requesting ApiVersion: might be caused by incorrect security.protocol configuration (connecting to a SSL listener?) or broker version is < 0.10 (see api.version.request) (after 0ms in state APIVERSION_QUERY, 3 identical error(s) suppressed)\n",
      "%6|1718744429.036|FAIL|rdkafka#consumer-1| [thrd:kafka.lsst.ac.uk:9092/bootstrap]: kafka.lsst.ac.uk:9092/bootstrap: Disconnected while requesting ApiVersion: might be caused by incorrect security.protocol configuration (connecting to a SSL listener?) or broker version is < 0.10 (see api.version.request) (after 0ms in state APIVERSION_QUERY, 4 identical error(s) suppressed)\n"
     ]
    }
   ],
   "source": [
    "objectId = 'ZTF24aakzjyd'\n",
    "L = lasair.lasair_client(settings.API_TOKEN)\n",
    "predict_targeted_ZTF(objectId, L,  threshold = 0.75)"
   ]
  }
 ],
 "metadata": {
  "kernelspec": {
   "display_name": "astro_py8",
   "language": "python",
   "name": "python3"
  },
  "language_info": {
   "codemirror_mode": {
    "name": "ipython",
    "version": 3
   },
   "file_extension": ".py",
   "mimetype": "text/x-python",
   "name": "python",
   "nbconvert_exporter": "python",
   "pygments_lexer": "ipython3",
   "version": "3.8.16"
  }
 },
 "nbformat": 4,
 "nbformat_minor": 2
}
