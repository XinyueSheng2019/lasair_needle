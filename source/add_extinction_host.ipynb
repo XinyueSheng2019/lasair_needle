{
 "cells": [
  {
   "cell_type": "code",
   "execution_count": 9,
   "metadata": {},
   "outputs": [],
   "source": [
    "from cal_extinction import ext\n",
    "import pandas as pd \n",
    "import numpy as np \n",
    "\n",
    "host_path = '/Users/xinyuesheng/Documents/astro_projects/data/untouch_testset/hosts/'\n",
    "\n",
    "\n",
    "ext_host_path = '/Users/xinyuesheng/Documents/astro_projects/data/untouch_testset/hosts_ext/'\n",
    "\n",
    "def add_extinction_to_host(obj):\n",
    "    print(obj)\n",
    "    wdata = pd.read_csv(host_path + obj)\n",
    "    exts = ext(wdata['ra'][0], wdata['dec'][0])\n",
    "    for i in ['g', 'r', 'i', 'z', 'y']:\n",
    "        wdata[f'{i}PSF'] = wdata[f'{i}PSF'] - exts[f'PS_{i}']\n",
    "        wdata[f'{i}Ap'] = wdata[f'{i}Ap'] - exts[f'PS_{i}']\n",
    "\n",
    "    wdata['g-r_PSF'] = wdata['gPSF'] - wdata['rPSF']\n",
    "    wdata['r-i_PSF'] = wdata['rPSF'] - wdata['iPSF']\n",
    "    wdata['g-r_PSFerr'] = np.sqrt(wdata['gPSFerr']**2 + wdata['rPSFerr']**2)\n",
    "    wdata['r-i_PSFerr'] = np.sqrt(wdata['rPSFerr']**2 + wdata['iPSFerr']**2)\n",
    "    wdata['g-r_Ap'] = wdata['gAp'] - wdata['rAp']\n",
    "    wdata['r-i_Ap'] = wdata['rAp'] - wdata['iAp']\n",
    "    wdata['g-r_Aperr'] = np.sqrt(wdata['gAperr']**2 + wdata['rAperr']**2)\n",
    "    wdata['r-i_Aperr'] = np.sqrt(wdata['rAperr']**2 + wdata['iAperr']**2)\n",
    "    wdata.reset_index()\n",
    "    wdata.to_csv(ext_host_path + obj)\n",
    "\n"
   ]
  },
  {
   "cell_type": "code",
   "execution_count": 10,
   "metadata": {},
   "outputs": [
    {
     "name": "stdout",
     "output_type": "stream",
     "text": [
      "ZTF23abjuxso.csv\n",
      "INFO: Loading the maps from /Users/xinyuesheng/.extinction/maps//maps.yaml\n",
      " -  sfd is loaded\n",
      "ZTF23abawhql.csv\n",
      "INFO: Loading the maps from /Users/xinyuesheng/.extinction/maps//maps.yaml\n",
      " -  sfd is loaded\n",
      "ZTF23aapyidj.csv\n",
      "INFO: Loading the maps from /Users/xinyuesheng/.extinction/maps//maps.yaml\n"
     ]
    },
    {
     "name": "stderr",
     "output_type": "stream",
     "text": [
      "/Users/xinyuesheng/anaconda3/envs/astro_py8/lib/python3.8/site-packages/extinctions/reddening.py:67: HealpyDeprecationWarning: \"verbose\" was deprecated in version 1.15.0 and will be removed in a future version. \n",
      "  self.loaded_maps[cmap]['map'] = healpy.read_map(lmap, verbose=False,\n",
      "/Users/xinyuesheng/anaconda3/envs/astro_py8/lib/python3.8/site-packages/extinctions/reddening.py:67: HealpyDeprecationWarning: \"verbose\" was deprecated in version 1.15.0 and will be removed in a future version. \n",
      "  self.loaded_maps[cmap]['map'] = healpy.read_map(lmap, verbose=False,\n",
      "/Users/xinyuesheng/anaconda3/envs/astro_py8/lib/python3.8/site-packages/extinctions/reddening.py:67: HealpyDeprecationWarning: \"verbose\" was deprecated in version 1.15.0 and will be removed in a future version. \n",
      "  self.loaded_maps[cmap]['map'] = healpy.read_map(lmap, verbose=False,\n"
     ]
    },
    {
     "name": "stdout",
     "output_type": "stream",
     "text": [
      " -  sfd is loaded\n",
      "ZTF23aaccacy.csv\n",
      "INFO: Loading the maps from /Users/xinyuesheng/.extinction/maps//maps.yaml\n",
      " -  sfd is loaded\n",
      "ZTF19acbonaa.csv\n",
      "INFO: Loading the maps from /Users/xinyuesheng/.extinction/maps//maps.yaml\n",
      " -  sfd is loaded\n",
      "ZTF23aadcbay.csv\n",
      "INFO: Loading the maps from /Users/xinyuesheng/.extinction/maps//maps.yaml\n",
      " -  sfd is loaded\n",
      "ZTF18aabkvpi.csv\n",
      "INFO: Loading the maps from /Users/xinyuesheng/.extinction/maps//maps.yaml\n"
     ]
    },
    {
     "name": "stderr",
     "output_type": "stream",
     "text": [
      "/Users/xinyuesheng/anaconda3/envs/astro_py8/lib/python3.8/site-packages/extinctions/reddening.py:67: HealpyDeprecationWarning: \"verbose\" was deprecated in version 1.15.0 and will be removed in a future version. \n",
      "  self.loaded_maps[cmap]['map'] = healpy.read_map(lmap, verbose=False,\n",
      "/Users/xinyuesheng/anaconda3/envs/astro_py8/lib/python3.8/site-packages/extinctions/reddening.py:67: HealpyDeprecationWarning: \"verbose\" was deprecated in version 1.15.0 and will be removed in a future version. \n",
      "  self.loaded_maps[cmap]['map'] = healpy.read_map(lmap, verbose=False,\n",
      "/Users/xinyuesheng/anaconda3/envs/astro_py8/lib/python3.8/site-packages/extinctions/reddening.py:67: HealpyDeprecationWarning: \"verbose\" was deprecated in version 1.15.0 and will be removed in a future version. \n",
      "  self.loaded_maps[cmap]['map'] = healpy.read_map(lmap, verbose=False,\n",
      "/Users/xinyuesheng/anaconda3/envs/astro_py8/lib/python3.8/site-packages/extinctions/reddening.py:67: HealpyDeprecationWarning: \"verbose\" was deprecated in version 1.15.0 and will be removed in a future version. \n",
      "  self.loaded_maps[cmap]['map'] = healpy.read_map(lmap, verbose=False,\n"
     ]
    },
    {
     "name": "stdout",
     "output_type": "stream",
     "text": [
      " -  sfd is loaded\n",
      "ZTF23abgzmfs.csv\n",
      "INFO: Loading the maps from /Users/xinyuesheng/.extinction/maps//maps.yaml\n",
      " -  sfd is loaded\n",
      "ZTF22abajudi.csv\n",
      "INFO: Loading the maps from /Users/xinyuesheng/.extinction/maps//maps.yaml\n",
      " -  sfd is loaded\n",
      "ZTF22aavvqyh.csv\n",
      "INFO: Loading the maps from /Users/xinyuesheng/.extinction/maps//maps.yaml\n",
      " -  sfd is loaded\n",
      "ZTF22aadghqe.csv\n",
      "INFO: Loading the maps from /Users/xinyuesheng/.extinction/maps//maps.yaml\n"
     ]
    },
    {
     "name": "stderr",
     "output_type": "stream",
     "text": [
      "/Users/xinyuesheng/anaconda3/envs/astro_py8/lib/python3.8/site-packages/extinctions/reddening.py:67: HealpyDeprecationWarning: \"verbose\" was deprecated in version 1.15.0 and will be removed in a future version. \n",
      "  self.loaded_maps[cmap]['map'] = healpy.read_map(lmap, verbose=False,\n",
      "/Users/xinyuesheng/anaconda3/envs/astro_py8/lib/python3.8/site-packages/extinctions/reddening.py:67: HealpyDeprecationWarning: \"verbose\" was deprecated in version 1.15.0 and will be removed in a future version. \n",
      "  self.loaded_maps[cmap]['map'] = healpy.read_map(lmap, verbose=False,\n",
      "/Users/xinyuesheng/anaconda3/envs/astro_py8/lib/python3.8/site-packages/extinctions/reddening.py:67: HealpyDeprecationWarning: \"verbose\" was deprecated in version 1.15.0 and will be removed in a future version. \n",
      "  self.loaded_maps[cmap]['map'] = healpy.read_map(lmap, verbose=False,\n",
      "/Users/xinyuesheng/anaconda3/envs/astro_py8/lib/python3.8/site-packages/extinctions/reddening.py:67: HealpyDeprecationWarning: \"verbose\" was deprecated in version 1.15.0 and will be removed in a future version. \n",
      "  self.loaded_maps[cmap]['map'] = healpy.read_map(lmap, verbose=False,\n"
     ]
    },
    {
     "name": "stdout",
     "output_type": "stream",
     "text": [
      " -  sfd is loaded\n",
      "ZTF22aaaihgr.csv\n",
      "INFO: Loading the maps from /Users/xinyuesheng/.extinction/maps//maps.yaml\n",
      " -  sfd is loaded\n",
      "ZTF23abkixdb.csv\n",
      "INFO: Loading the maps from /Users/xinyuesheng/.extinction/maps//maps.yaml\n",
      " -  sfd is loaded\n",
      "ZTF23aazodoj.csv\n",
      "INFO: Loading the maps from /Users/xinyuesheng/.extinction/maps//maps.yaml\n",
      " -  sfd is loaded\n",
      "ZTF22abcvfgs.csv\n",
      "INFO: Loading the maps from /Users/xinyuesheng/.extinction/maps//maps.yaml\n"
     ]
    },
    {
     "name": "stderr",
     "output_type": "stream",
     "text": [
      "/Users/xinyuesheng/anaconda3/envs/astro_py8/lib/python3.8/site-packages/extinctions/reddening.py:67: HealpyDeprecationWarning: \"verbose\" was deprecated in version 1.15.0 and will be removed in a future version. \n",
      "  self.loaded_maps[cmap]['map'] = healpy.read_map(lmap, verbose=False,\n",
      "/Users/xinyuesheng/anaconda3/envs/astro_py8/lib/python3.8/site-packages/extinctions/reddening.py:67: HealpyDeprecationWarning: \"verbose\" was deprecated in version 1.15.0 and will be removed in a future version. \n",
      "  self.loaded_maps[cmap]['map'] = healpy.read_map(lmap, verbose=False,\n",
      "/Users/xinyuesheng/anaconda3/envs/astro_py8/lib/python3.8/site-packages/extinctions/reddening.py:67: HealpyDeprecationWarning: \"verbose\" was deprecated in version 1.15.0 and will be removed in a future version. \n",
      "  self.loaded_maps[cmap]['map'] = healpy.read_map(lmap, verbose=False,\n",
      "/Users/xinyuesheng/anaconda3/envs/astro_py8/lib/python3.8/site-packages/extinctions/reddening.py:67: HealpyDeprecationWarning: \"verbose\" was deprecated in version 1.15.0 and will be removed in a future version. \n",
      "  self.loaded_maps[cmap]['map'] = healpy.read_map(lmap, verbose=False,\n"
     ]
    },
    {
     "name": "stdout",
     "output_type": "stream",
     "text": [
      " -  sfd is loaded\n",
      "ZTF23abgnxfv.csv\n",
      "INFO: Loading the maps from /Users/xinyuesheng/.extinction/maps//maps.yaml\n",
      " -  sfd is loaded\n",
      "ZTF23aaqdjhi.csv\n",
      "INFO: Loading the maps from /Users/xinyuesheng/.extinction/maps//maps.yaml\n",
      " -  sfd is loaded\n",
      "ZTF23aaarvxj.csv\n",
      "INFO: Loading the maps from /Users/xinyuesheng/.extinction/maps//maps.yaml\n",
      " -  sfd is loaded\n",
      "ZTF22aaahtqz.csv\n",
      "INFO: Loading the maps from /Users/xinyuesheng/.extinction/maps//maps.yaml\n"
     ]
    },
    {
     "name": "stderr",
     "output_type": "stream",
     "text": [
      "/Users/xinyuesheng/anaconda3/envs/astro_py8/lib/python3.8/site-packages/extinctions/reddening.py:67: HealpyDeprecationWarning: \"verbose\" was deprecated in version 1.15.0 and will be removed in a future version. \n",
      "  self.loaded_maps[cmap]['map'] = healpy.read_map(lmap, verbose=False,\n",
      "/Users/xinyuesheng/anaconda3/envs/astro_py8/lib/python3.8/site-packages/extinctions/reddening.py:67: HealpyDeprecationWarning: \"verbose\" was deprecated in version 1.15.0 and will be removed in a future version. \n",
      "  self.loaded_maps[cmap]['map'] = healpy.read_map(lmap, verbose=False,\n",
      "/Users/xinyuesheng/anaconda3/envs/astro_py8/lib/python3.8/site-packages/extinctions/reddening.py:67: HealpyDeprecationWarning: \"verbose\" was deprecated in version 1.15.0 and will be removed in a future version. \n",
      "  self.loaded_maps[cmap]['map'] = healpy.read_map(lmap, verbose=False,\n",
      "/Users/xinyuesheng/anaconda3/envs/astro_py8/lib/python3.8/site-packages/extinctions/reddening.py:67: HealpyDeprecationWarning: \"verbose\" was deprecated in version 1.15.0 and will be removed in a future version. \n",
      "  self.loaded_maps[cmap]['map'] = healpy.read_map(lmap, verbose=False,\n"
     ]
    },
    {
     "name": "stdout",
     "output_type": "stream",
     "text": [
      " -  sfd is loaded\n",
      "ZTF22abvcnnl.csv\n",
      "INFO: Loading the maps from /Users/xinyuesheng/.extinction/maps//maps.yaml\n",
      " -  sfd is loaded\n",
      "ZTF23abaujuy.csv\n",
      "INFO: Loading the maps from /Users/xinyuesheng/.extinction/maps//maps.yaml\n",
      " -  sfd is loaded\n",
      "ZTF21aalkhot.csv\n",
      "INFO: Loading the maps from /Users/xinyuesheng/.extinction/maps//maps.yaml\n",
      " -  sfd is loaded\n",
      "ZTF22aarqrxf.csv\n",
      "INFO: Loading the maps from /Users/xinyuesheng/.extinction/maps//maps.yaml\n"
     ]
    },
    {
     "name": "stderr",
     "output_type": "stream",
     "text": [
      "/Users/xinyuesheng/anaconda3/envs/astro_py8/lib/python3.8/site-packages/extinctions/reddening.py:67: HealpyDeprecationWarning: \"verbose\" was deprecated in version 1.15.0 and will be removed in a future version. \n",
      "  self.loaded_maps[cmap]['map'] = healpy.read_map(lmap, verbose=False,\n",
      "/Users/xinyuesheng/anaconda3/envs/astro_py8/lib/python3.8/site-packages/extinctions/reddening.py:67: HealpyDeprecationWarning: \"verbose\" was deprecated in version 1.15.0 and will be removed in a future version. \n",
      "  self.loaded_maps[cmap]['map'] = healpy.read_map(lmap, verbose=False,\n",
      "/Users/xinyuesheng/anaconda3/envs/astro_py8/lib/python3.8/site-packages/extinctions/reddening.py:67: HealpyDeprecationWarning: \"verbose\" was deprecated in version 1.15.0 and will be removed in a future version. \n",
      "  self.loaded_maps[cmap]['map'] = healpy.read_map(lmap, verbose=False,\n",
      "/Users/xinyuesheng/anaconda3/envs/astro_py8/lib/python3.8/site-packages/extinctions/reddening.py:67: HealpyDeprecationWarning: \"verbose\" was deprecated in version 1.15.0 and will be removed in a future version. \n",
      "  self.loaded_maps[cmap]['map'] = healpy.read_map(lmap, verbose=False,\n"
     ]
    },
    {
     "name": "stdout",
     "output_type": "stream",
     "text": [
      " -  sfd is loaded\n",
      "ZTF23abjhbcr.csv\n",
      "INFO: Loading the maps from /Users/xinyuesheng/.extinction/maps//maps.yaml\n",
      " -  sfd is loaded\n",
      "ZTF23aamsetv.csv\n",
      "INFO: Loading the maps from /Users/xinyuesheng/.extinction/maps//maps.yaml\n",
      " -  sfd is loaded\n",
      "ZTF22aadgefj.csv\n",
      "INFO: Loading the maps from /Users/xinyuesheng/.extinction/maps//maps.yaml\n",
      " -  sfd is loaded\n",
      "ZTF18aabdajx.csv\n",
      "INFO: Loading the maps from /Users/xinyuesheng/.extinction/maps//maps.yaml\n"
     ]
    },
    {
     "name": "stderr",
     "output_type": "stream",
     "text": [
      "/Users/xinyuesheng/anaconda3/envs/astro_py8/lib/python3.8/site-packages/extinctions/reddening.py:67: HealpyDeprecationWarning: \"verbose\" was deprecated in version 1.15.0 and will be removed in a future version. \n",
      "  self.loaded_maps[cmap]['map'] = healpy.read_map(lmap, verbose=False,\n",
      "/Users/xinyuesheng/anaconda3/envs/astro_py8/lib/python3.8/site-packages/extinctions/reddening.py:67: HealpyDeprecationWarning: \"verbose\" was deprecated in version 1.15.0 and will be removed in a future version. \n",
      "  self.loaded_maps[cmap]['map'] = healpy.read_map(lmap, verbose=False,\n",
      "/Users/xinyuesheng/anaconda3/envs/astro_py8/lib/python3.8/site-packages/extinctions/reddening.py:67: HealpyDeprecationWarning: \"verbose\" was deprecated in version 1.15.0 and will be removed in a future version. \n",
      "  self.loaded_maps[cmap]['map'] = healpy.read_map(lmap, verbose=False,\n",
      "/Users/xinyuesheng/anaconda3/envs/astro_py8/lib/python3.8/site-packages/extinctions/reddening.py:67: HealpyDeprecationWarning: \"verbose\" was deprecated in version 1.15.0 and will be removed in a future version. \n",
      "  self.loaded_maps[cmap]['map'] = healpy.read_map(lmap, verbose=False,\n"
     ]
    },
    {
     "name": "stdout",
     "output_type": "stream",
     "text": [
      " -  sfd is loaded\n",
      "ZTF22aadesap.csv\n",
      "INFO: Loading the maps from /Users/xinyuesheng/.extinction/maps//maps.yaml\n",
      " -  sfd is loaded\n",
      "ZTF21acrbbwi.csv\n",
      "INFO: Loading the maps from /Users/xinyuesheng/.extinction/maps//maps.yaml\n",
      " -  sfd is loaded\n",
      "ZTF23abohtqf.csv\n",
      "INFO: Loading the maps from /Users/xinyuesheng/.extinction/maps//maps.yaml\n",
      " -  sfd is loaded\n",
      "ZTF19acfwynw.csv\n",
      "INFO: Loading the maps from /Users/xinyuesheng/.extinction/maps//maps.yaml\n"
     ]
    },
    {
     "name": "stderr",
     "output_type": "stream",
     "text": [
      "/Users/xinyuesheng/anaconda3/envs/astro_py8/lib/python3.8/site-packages/extinctions/reddening.py:67: HealpyDeprecationWarning: \"verbose\" was deprecated in version 1.15.0 and will be removed in a future version. \n",
      "  self.loaded_maps[cmap]['map'] = healpy.read_map(lmap, verbose=False,\n",
      "/Users/xinyuesheng/anaconda3/envs/astro_py8/lib/python3.8/site-packages/extinctions/reddening.py:67: HealpyDeprecationWarning: \"verbose\" was deprecated in version 1.15.0 and will be removed in a future version. \n",
      "  self.loaded_maps[cmap]['map'] = healpy.read_map(lmap, verbose=False,\n",
      "/Users/xinyuesheng/anaconda3/envs/astro_py8/lib/python3.8/site-packages/extinctions/reddening.py:67: HealpyDeprecationWarning: \"verbose\" was deprecated in version 1.15.0 and will be removed in a future version. \n",
      "  self.loaded_maps[cmap]['map'] = healpy.read_map(lmap, verbose=False,\n",
      "/Users/xinyuesheng/anaconda3/envs/astro_py8/lib/python3.8/site-packages/extinctions/reddening.py:67: HealpyDeprecationWarning: \"verbose\" was deprecated in version 1.15.0 and will be removed in a future version. \n",
      "  self.loaded_maps[cmap]['map'] = healpy.read_map(lmap, verbose=False,\n"
     ]
    },
    {
     "name": "stdout",
     "output_type": "stream",
     "text": [
      " -  sfd is loaded\n"
     ]
    }
   ],
   "source": [
    "import os\n",
    "host_files = os.listdir(host_path)\n",
    "for i in host_files:\n",
    "    if i.startswith('ZTF'):\n",
    "        add_extinction_to_host(i)"
   ]
  }
 ],
 "metadata": {
  "kernelspec": {
   "display_name": "astro_py8",
   "language": "python",
   "name": "python3"
  },
  "language_info": {
   "codemirror_mode": {
    "name": "ipython",
    "version": 3
   },
   "file_extension": ".py",
   "mimetype": "text/x-python",
   "name": "python",
   "nbconvert_exporter": "python",
   "pygments_lexer": "ipython3",
   "version": "3.8.16"
  }
 },
 "nbformat": 4,
 "nbformat_minor": 2
}
